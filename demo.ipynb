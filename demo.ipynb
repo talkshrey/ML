{
  "nbformat": 4,
  "nbformat_minor": 2,
  "metadata": {
    "colab": {
      "name": "Recitation1.ipynb",
      "provenance": [],
      "collapsed_sections": []
    },
    "kernelspec": {
      "name": "python3",
      "display_name": "Python 3.9.4 64-bit"
    },
    "language_info": {
      "name": "python",
      "version": "3.9.4",
      "mimetype": "text/x-python",
      "codemirror_mode": {
        "name": "ipython",
        "version": 3
      },
      "pygments_lexer": "ipython3",
      "nbconvert_exporter": "python",
      "file_extension": ".py"
    },
    "accelerator": "GPU",
    "interpreter": {
      "hash": "5208ece860cd8f659edbc8d402425989a1be8cb2cbdc0b946175eff23c10f70c"
    }
  },
  "cells": [
    {
      "cell_type": "markdown",
      "source": [
        "**Introduction to TensorFlow/PyTorch**"
      ],
      "metadata": {
        "id": "fTdDJp9el0tu"
      }
    },
    {
      "cell_type": "code",
      "execution_count": 2,
      "source": [
        "import torch\r\n",
        "import numpy as np\r\n",
        "import datetime\r\n",
        "\r\n",
        "data = [[1,2],[3,4]]\r\n",
        "t_data = torch.tensor(data)\r\n",
        "print(t_data)"
      ],
      "outputs": [
        {
          "output_type": "stream",
          "name": "stdout",
          "text": [
            "tensor([[1, 2],\n",
            "        [3, 4]])\n"
          ]
        }
      ],
      "metadata": {
        "id": "ZcE5i1J7jpnP",
        "colab": {
          "base_uri": "https://localhost:8080/"
        },
        "outputId": "19a9b009-04db-4a6d-82ed-c60fd682d16a"
      }
    },
    {
      "cell_type": "markdown",
      "source": [
        "Exercise practise sums "
      ],
      "metadata": {
        "id": "738DeDP8BqJW"
      }
    },
    {
      "cell_type": "markdown",
      "source": [
        "Question 1"
      ],
      "metadata": {}
    },
    {
      "cell_type": "code",
      "execution_count": null,
      "source": [
        "X = torch.ones(3,3)\r\n",
        "X[1:-1,1:-1] = 0\r\n",
        "print(X)"
      ],
      "outputs": [],
      "metadata": {
        "id": "KVTzpbpupO7_",
        "colab": {
          "base_uri": "https://localhost:8080/"
        },
        "outputId": "3a8709c8-4803-4611-c063-726680a5de5f"
      }
    },
    {
      "cell_type": "markdown",
      "source": [
        "Question 2"
      ],
      "metadata": {}
    },
    {
      "cell_type": "code",
      "execution_count": null,
      "source": [
        "X1 = np.array(X)\r\n",
        "print(X1)\r\n",
        "\r\n",
        "# calculating the mean and std deviation using numpy library\r\n",
        "mean1 = np.mean(X1) # 0.8999\r\n",
        "print(mean1)\r\n",
        "\r\n",
        "# calculating std deviation using numpy library\r\n",
        "std1 = np.std(X1) \r\n",
        "print(std1)\r\n",
        "\r\n",
        "# normalising the matrix\r\n",
        "for i in X1:\r\n",
        "  normal_matrix1 = (X1 - mean1)/std1\r\n",
        "\r\n",
        "print(normal_matrix1)"
      ],
      "outputs": [],
      "metadata": {
        "colab": {
          "base_uri": "https://localhost:8080/"
        },
        "id": "iirZb7IKDBJn",
        "outputId": "daaa8492-b3c7-4d30-c6f4-7de11bf69101"
      }
    },
    {
      "cell_type": "markdown",
      "source": [
        "Question 3"
      ],
      "metadata": {}
    },
    {
      "cell_type": "code",
      "execution_count": null,
      "source": [
        "print(X)\r\n",
        "\r\n",
        "# calculating mean using pytorch\r\n",
        "mean2 = torch.mean(X)\r\n",
        "print(mean2)\r\n",
        "\r\n",
        "# calculating std using pytorch\r\n",
        "std2 = torch.std(X)\r\n",
        "print(std2)\r\n",
        "\r\n",
        "# normalising the matrix\r\n",
        "for i in X:\r\n",
        "  normal_matrix2 = (X - mean2)/std2\r\n",
        "\r\n",
        "print(normal_matrix2)"
      ],
      "outputs": [],
      "metadata": {
        "colab": {
          "base_uri": "https://localhost:8080/"
        },
        "id": "1tndoN5iTCj-",
        "outputId": "a1601cba-5fdd-40d0-936e-6faf35a7365e"
      }
    },
    {
      "cell_type": "code",
      "execution_count": 4,
      "source": [
        "help(np.arange)"
      ],
      "outputs": [
        {
          "output_type": "stream",
          "name": "stdout",
          "text": [
            "Help on built-in function arange in module numpy:\n",
            "\n",
            "arange(...)\n",
            "    arange([start,] stop[, step,], dtype=None)\n",
            "    \n",
            "    Return evenly spaced values within a given interval.\n",
            "    \n",
            "    Values are generated within the half-open interval ``[start, stop)``\n",
            "    (in other words, the interval including `start` but excluding `stop`).\n",
            "    For integer arguments the function is equivalent to the Python built-in\n",
            "    `range` function, but returns an ndarray rather than a list.\n",
            "    \n",
            "    When using a non-integer step, such as 0.1, the results will often not\n",
            "    be consistent.  It is better to use `numpy.linspace` for these cases.\n",
            "    \n",
            "    Parameters\n",
            "    ----------\n",
            "    start : number, optional\n",
            "        Start of interval.  The interval includes this value.  The default\n",
            "        start value is 0.\n",
            "    stop : number\n",
            "        End of interval.  The interval does not include this value, except\n",
            "        in some cases where `step` is not an integer and floating point\n",
            "        round-off affects the length of `out`.\n",
            "    step : number, optional\n",
            "        Spacing between values.  For any output `out`, this is the distance\n",
            "        between two adjacent values, ``out[i+1] - out[i]``.  The default\n",
            "        step size is 1.  If `step` is specified as a position argument,\n",
            "        `start` must also be given.\n",
            "    dtype : dtype\n",
            "        The type of the output array.  If `dtype` is not given, infer the data\n",
            "        type from the other input arguments.\n",
            "    \n",
            "    Returns\n",
            "    -------\n",
            "    arange : ndarray\n",
            "        Array of evenly spaced values.\n",
            "    \n",
            "        For floating point arguments, the length of the result is\n",
            "        ``ceil((stop - start)/step)``.  Because of floating point overflow,\n",
            "        this rule may result in the last element of `out` being greater\n",
            "        than `stop`.\n",
            "    \n",
            "    See Also\n",
            "    --------\n",
            "    numpy.linspace : Evenly spaced numbers with careful handling of endpoints.\n",
            "    numpy.ogrid: Arrays of evenly spaced numbers in N-dimensions.\n",
            "    numpy.mgrid: Grid-shaped arrays of evenly spaced numbers in N-dimensions.\n",
            "    \n",
            "    Examples\n",
            "    --------\n",
            "    >>> np.arange(3)\n",
            "    array([0, 1, 2])\n",
            "    >>> np.arange(3.0)\n",
            "    array([ 0.,  1.,  2.])\n",
            "    >>> np.arange(3,7)\n",
            "    array([3, 4, 5, 6])\n",
            "    >>> np.arange(3,7,2)\n",
            "    array([3, 5])\n",
            "\n"
          ]
        }
      ],
      "metadata": {
        "id": "NuM76Yqy4xkO"
      }
    },
    {
      "cell_type": "code",
      "execution_count": null,
      "source": [
        "help(np.linspace)"
      ],
      "outputs": [],
      "metadata": {}
    },
    {
      "cell_type": "markdown",
      "source": [
        "Question 4"
      ],
      "metadata": {}
    },
    {
      "cell_type": "code",
      "execution_count": null,
      "source": [
        "np.arange('2021-06','2021-07',2,dtype='datetime64[D]')"
      ],
      "outputs": [],
      "metadata": {
        "colab": {
          "base_uri": "https://localhost:8080/"
        },
        "id": "37m78C8G7jhV",
        "outputId": "0f11e5a8-6651-4b09-b5a5-e44920b52e14"
      }
    },
    {
      "cell_type": "markdown",
      "source": [
        "Question 5"
      ],
      "metadata": {}
    },
    {
      "cell_type": "code",
      "execution_count": null,
      "source": [
        "a = np.linspace(0, 1, num=11, endpoint=False,retstep=False, dtype=float, axis=0)[1:-1]\r\n",
        "b = torch.from_numpy(a)\r\n",
        "print(b)"
      ],
      "outputs": [],
      "metadata": {
        "colab": {
          "base_uri": "https://localhost:8080/"
        },
        "id": "tqIxjBUKBu6s",
        "outputId": "c50532ef-3690-4d16-9155-5c137cc7186c"
      }
    },
    {
      "cell_type": "markdown",
      "source": [
        "Question 6"
      ],
      "metadata": {}
    },
    {
      "cell_type": "code",
      "execution_count": null,
      "source": [
        "arr = np.random.rand(10)\r\n",
        "num = 0.33\r\n",
        "nearest_value = arr[np.abs(arr-num).argmin()]\r\n",
        "print(nearest_value)"
      ],
      "outputs": [],
      "metadata": {}
    },
    {
      "cell_type": "markdown",
      "source": [
        "Pytorch autograd basics"
      ],
      "metadata": {}
    },
    {
      "cell_type": "code",
      "execution_count": null,
      "source": [
        "torch.cuda.is_available() # checking availability of cuda"
      ],
      "outputs": [],
      "metadata": {}
    },
    {
      "cell_type": "code",
      "execution_count": null,
      "source": [
        "A = torch.tensor([3,6],dtype=float, requires_grad=True)\r\n",
        "B = torch.tensor([2,5], dtype=float, requires_grad=True)\r\n",
        "\r\n",
        "C = A**3 # declaring non-leaf tensors\r\n",
        "D = 3*C\r\n",
        "E = B**2\r\n",
        "Q = D - E \r\n",
        "output = sum(Q)"
      ],
      "outputs": [],
      "metadata": {}
    },
    {
      "cell_type": "markdown",
      "source": [
        "Gradient descent"
      ],
      "metadata": {}
    },
    {
      "cell_type": "code",
      "execution_count": null,
      "source": [
        "help(np.arange)"
      ],
      "outputs": [],
      "metadata": {}
    },
    {
      "cell_type": "code",
      "execution_count": null,
      "source": [
        "print(np.arange(0,10,2))"
      ],
      "outputs": [],
      "metadata": {}
    },
    {
      "cell_type": "code",
      "execution_count": null,
      "source": [
        "l1 = torch.rand(10)\r\n",
        "print(l1)\r\n",
        "l1.argmax()"
      ],
      "outputs": [],
      "metadata": {}
    },
    {
      "cell_type": "markdown",
      "source": [
        "Calculating gradient"
      ],
      "metadata": {}
    },
    {
      "cell_type": "code",
      "execution_count": 44,
      "source": [
        "a = torch.tensor([1,2], requires_grad=True, dtype=float)\r\n",
        "c = a**2\r\n",
        "print(torch.gradient(c))"
      ],
      "outputs": [
        {
          "output_type": "stream",
          "name": "stdout",
          "text": [
            "(tensor([3., 3.], dtype=torch.float64, grad_fn=<CatBackward>),)\n"
          ]
        }
      ],
      "metadata": {}
    },
    {
      "cell_type": "code",
      "execution_count": 2,
      "source": [
        "# import the opencv library\r\n",
        "import cv2\r\n",
        "  \r\n",
        "  \r\n",
        "# define a video capture object\r\n",
        "vid = cv2.VideoCapture('Flag.mp4')\r\n",
        "  \r\n",
        "while(True):\r\n",
        "      \r\n",
        "    # Capture the video frame\r\n",
        "    # by frame\r\n",
        "    ret, frame = vid.read()\r\n",
        "  \r\n",
        "    # Display the resulting frame\r\n",
        "    cv2.imshow('vid', ret)\r\n",
        "      \r\n",
        "    # the 'q' button is set as the\r\n",
        "    # quitting button you may use any\r\n",
        "    # desired button of your choice\r\n",
        "    if cv2.waitKey(1) & 0xFF == ord('q'):\r\n",
        "        break\r\n",
        "  \r\n",
        "# After the loop release the cap object\r\n",
        "vid.release()\r\n",
        "# Destroy all the windows\r\n",
        "cv2.destroyAllWindows()"
      ],
      "outputs": [
        {
          "output_type": "error",
          "ename": "error",
          "evalue": "OpenCV(4.5.3) :-1: error: (-5:Bad argument) in function 'imshow'\n> Overload resolution failed:\n>  - mat is not a numpy array, neither a scalar\n>  - Expected Ptr<cv::cuda::GpuMat> for argument 'mat'\n>  - Expected Ptr<cv::UMat> for argument 'mat'\n",
          "traceback": [
            "\u001b[1;31m---------------------------------------------------------------------------\u001b[0m",
            "\u001b[1;31merror\u001b[0m                                     Traceback (most recent call last)",
            "\u001b[1;32m<ipython-input-2-30cc00b6775e>\u001b[0m in \u001b[0;36m<module>\u001b[1;34m\u001b[0m\n\u001b[0;32m     13\u001b[0m \u001b[1;33m\u001b[0m\u001b[0m\n\u001b[0;32m     14\u001b[0m     \u001b[1;31m# Display the resulting frame\u001b[0m\u001b[1;33m\u001b[0m\u001b[1;33m\u001b[0m\u001b[1;33m\u001b[0m\u001b[0m\n\u001b[1;32m---> 15\u001b[1;33m     \u001b[0mcv2\u001b[0m\u001b[1;33m.\u001b[0m\u001b[0mimshow\u001b[0m\u001b[1;33m(\u001b[0m\u001b[1;34m'vid'\u001b[0m\u001b[1;33m,\u001b[0m \u001b[0mvid\u001b[0m\u001b[1;33m)\u001b[0m\u001b[1;33m\u001b[0m\u001b[1;33m\u001b[0m\u001b[0m\n\u001b[0m\u001b[0;32m     16\u001b[0m \u001b[1;33m\u001b[0m\u001b[0m\n\u001b[0;32m     17\u001b[0m     \u001b[1;31m# the 'q' button is set as the\u001b[0m\u001b[1;33m\u001b[0m\u001b[1;33m\u001b[0m\u001b[1;33m\u001b[0m\u001b[0m\n",
            "\u001b[1;31merror\u001b[0m: OpenCV(4.5.3) :-1: error: (-5:Bad argument) in function 'imshow'\n> Overload resolution failed:\n>  - mat is not a numpy array, neither a scalar\n>  - Expected Ptr<cv::cuda::GpuMat> for argument 'mat'\n>  - Expected Ptr<cv::UMat> for argument 'mat'\n"
          ]
        }
      ],
      "metadata": {}
    }
  ]
}